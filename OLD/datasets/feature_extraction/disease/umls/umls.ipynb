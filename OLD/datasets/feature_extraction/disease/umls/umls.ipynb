{
 "cells": [
  {
   "cell_type": "code",
   "execution_count": 1,
   "metadata": {},
   "outputs": [],
   "source": [
    "import numpy as np \n",
    "import pandas as pd"
   ]
  },
  {
   "cell_type": "markdown",
   "metadata": {},
   "source": [
    "### MRSTY, extract semantic type"
   ]
  },
  {
   "cell_type": "code",
   "execution_count": 5,
   "metadata": {},
   "outputs": [
    {
     "data": {
      "text/html": [
       "<div>\n",
       "<style scoped>\n",
       "    .dataframe tbody tr th:only-of-type {\n",
       "        vertical-align: middle;\n",
       "    }\n",
       "\n",
       "    .dataframe tbody tr th {\n",
       "        vertical-align: top;\n",
       "    }\n",
       "\n",
       "    .dataframe thead th {\n",
       "        text-align: right;\n",
       "    }\n",
       "</style>\n",
       "<table border=\"1\" class=\"dataframe\">\n",
       "  <thead>\n",
       "    <tr style=\"text-align: right;\">\n",
       "      <th></th>\n",
       "      <th>CUI</th>\n",
       "      <th>unknown1</th>\n",
       "      <th>unknown2</th>\n",
       "      <th>STY</th>\n",
       "      <th>unknown3</th>\n",
       "      <th>unknown4</th>\n",
       "      <th>unknown5</th>\n",
       "    </tr>\n",
       "  </thead>\n",
       "  <tbody>\n",
       "    <tr>\n",
       "      <th>0</th>\n",
       "      <td>C0000005</td>\n",
       "      <td>T116</td>\n",
       "      <td>A1.4.1.2.1.7</td>\n",
       "      <td>Amino Acid, Peptide, or Protein</td>\n",
       "      <td>AT17648347</td>\n",
       "      <td>256</td>\n",
       "      <td>\\n</td>\n",
       "    </tr>\n",
       "    <tr>\n",
       "      <th>1</th>\n",
       "      <td>C0000005</td>\n",
       "      <td>T121</td>\n",
       "      <td>A1.4.1.1.1</td>\n",
       "      <td>Pharmacologic Substance</td>\n",
       "      <td>AT17575038</td>\n",
       "      <td>256</td>\n",
       "      <td>\\n</td>\n",
       "    </tr>\n",
       "    <tr>\n",
       "      <th>2</th>\n",
       "      <td>C0000005</td>\n",
       "      <td>T130</td>\n",
       "      <td>A1.4.1.1.4</td>\n",
       "      <td>Indicator, Reagent, or Diagnostic Aid</td>\n",
       "      <td>AT17634323</td>\n",
       "      <td>256</td>\n",
       "      <td>\\n</td>\n",
       "    </tr>\n",
       "    <tr>\n",
       "      <th>3</th>\n",
       "      <td>C0000039</td>\n",
       "      <td>T109</td>\n",
       "      <td>A1.4.1.2.1</td>\n",
       "      <td>Organic Chemical</td>\n",
       "      <td>AT45562015</td>\n",
       "      <td>256</td>\n",
       "      <td>\\n</td>\n",
       "    </tr>\n",
       "    <tr>\n",
       "      <th>4</th>\n",
       "      <td>C0000039</td>\n",
       "      <td>T121</td>\n",
       "      <td>A1.4.1.1.1</td>\n",
       "      <td>Pharmacologic Substance</td>\n",
       "      <td>AT17567371</td>\n",
       "      <td>256</td>\n",
       "      <td>\\n</td>\n",
       "    </tr>\n",
       "  </tbody>\n",
       "</table>\n",
       "</div>"
      ],
      "text/plain": [
       "        CUI unknown1      unknown2                                    STY  \\\n",
       "0  C0000005     T116  A1.4.1.2.1.7        Amino Acid, Peptide, or Protein   \n",
       "1  C0000005     T121    A1.4.1.1.1                Pharmacologic Substance   \n",
       "2  C0000005     T130    A1.4.1.1.4  Indicator, Reagent, or Diagnostic Aid   \n",
       "3  C0000039     T109    A1.4.1.2.1                       Organic Chemical   \n",
       "4  C0000039     T121    A1.4.1.1.1                Pharmacologic Substance   \n",
       "\n",
       "     unknown3 unknown4 unknown5  \n",
       "0  AT17648347      256       \\n  \n",
       "1  AT17575038      256       \\n  \n",
       "2  AT17634323      256       \\n  \n",
       "3  AT45562015      256       \\n  \n",
       "4  AT17567371      256       \\n  "
      ]
     },
     "execution_count": 5,
     "metadata": {},
     "output_type": "execute_result"
    }
   ],
   "source": [
    "with open('2020AB/META/MRSTY.RRF', 'r') as f: \n",
    "    data = f.readlines()\n",
    "data = [x.split('|') for x in data]\n",
    "\n",
    "columns = ['CUI', 'unknown1', 'unknown2', 'STY', 'unknown3', 'unknown4','unknown5']\n",
    "\n",
    "df_umls = pd.DataFrame(data, columns = columns)\n",
    "#df_umls = df_umls.query('language==\"ENG\"')\n",
    "df_umls.head()"
   ]
  },
  {
   "cell_type": "code",
   "execution_count": 7,
   "metadata": {},
   "outputs": [
    {
     "data": {
      "text/html": [
       "<div>\n",
       "<style scoped>\n",
       "    .dataframe tbody tr th:only-of-type {\n",
       "        vertical-align: middle;\n",
       "    }\n",
       "\n",
       "    .dataframe tbody tr th {\n",
       "        vertical-align: top;\n",
       "    }\n",
       "\n",
       "    .dataframe thead th {\n",
       "        text-align: right;\n",
       "    }\n",
       "</style>\n",
       "<table border=\"1\" class=\"dataframe\">\n",
       "  <thead>\n",
       "    <tr style=\"text-align: right;\">\n",
       "      <th></th>\n",
       "      <th>CUI</th>\n",
       "      <th>STY</th>\n",
       "    </tr>\n",
       "  </thead>\n",
       "  <tbody>\n",
       "    <tr>\n",
       "      <th>0</th>\n",
       "      <td>C0000005</td>\n",
       "      <td>Amino Acid, Peptide, or Protein</td>\n",
       "    </tr>\n",
       "    <tr>\n",
       "      <th>1</th>\n",
       "      <td>C0000005</td>\n",
       "      <td>Pharmacologic Substance</td>\n",
       "    </tr>\n",
       "    <tr>\n",
       "      <th>2</th>\n",
       "      <td>C0000005</td>\n",
       "      <td>Indicator, Reagent, or Diagnostic Aid</td>\n",
       "    </tr>\n",
       "    <tr>\n",
       "      <th>3</th>\n",
       "      <td>C0000039</td>\n",
       "      <td>Organic Chemical</td>\n",
       "    </tr>\n",
       "    <tr>\n",
       "      <th>4</th>\n",
       "      <td>C0000039</td>\n",
       "      <td>Pharmacologic Substance</td>\n",
       "    </tr>\n",
       "  </tbody>\n",
       "</table>\n",
       "</div>"
      ],
      "text/plain": [
       "        CUI                                    STY\n",
       "0  C0000005        Amino Acid, Peptide, or Protein\n",
       "1  C0000005                Pharmacologic Substance\n",
       "2  C0000005  Indicator, Reagent, or Diagnostic Aid\n",
       "3  C0000039                       Organic Chemical\n",
       "4  C0000039                Pharmacologic Substance"
      ]
     },
     "execution_count": 7,
     "metadata": {},
     "output_type": "execute_result"
    }
   ],
   "source": [
    "df_sty=df_umls[['CUI','STY']]\n",
    "df_sty.head()"
   ]
  },
  {
   "cell_type": "code",
   "execution_count": 8,
   "metadata": {},
   "outputs": [
    {
     "data": {
      "text/plain": [
       "4733589"
      ]
     },
     "execution_count": 8,
     "metadata": {},
     "output_type": "execute_result"
    }
   ],
   "source": [
    "# get number of rows\n",
    "df_sty.shape[0]"
   ]
  },
  {
   "cell_type": "code",
   "execution_count": 9,
   "metadata": {},
   "outputs": [
    {
     "data": {
      "text/plain": [
       "Eukaryote                              979982\n",
       "Bacterium                              420675\n",
       "Finding                                308353\n",
       "Therapeutic or Preventive Procedure    307004\n",
       "Organic Chemical                       246667\n",
       "                                        ...  \n",
       "Chemical                                   29\n",
       "Entity                                     27\n",
       "Molecular Sequence                         12\n",
       "Fully Formed Anatomical Structure           8\n",
       "Carbohydrate Sequence                       2\n",
       "Name: STY, Length: 127, dtype: int64"
      ]
     },
     "execution_count": 9,
     "metadata": {},
     "output_type": "execute_result"
    }
   ],
   "source": [
    "# get value counts\n",
    "df_sty['STY'].value_counts()"
   ]
  },
  {
   "cell_type": "code",
   "execution_count": 10,
   "metadata": {},
   "outputs": [
    {
     "name": "stderr",
     "output_type": "stream",
     "text": [
      "/Users/jingyiliu/.local/lib/python3.7/site-packages/ipykernel_launcher.py:1: SettingWithCopyWarning: \n",
      "A value is trying to be set on a copy of a slice from a DataFrame\n",
      "\n",
      "See the caveats in the documentation: https://pandas.pydata.org/pandas-docs/stable/user_guide/indexing.html#returning-a-view-versus-a-copy\n",
      "  \"\"\"Entry point for launching an IPython kernel.\n"
     ]
    }
   ],
   "source": [
    "# drop NA values\n",
    "df_sty.dropna(axis=0,how='any', inplace=True)"
   ]
  },
  {
   "cell_type": "code",
   "execution_count": 11,
   "metadata": {},
   "outputs": [
    {
     "data": {
      "text/plain": [
       "4733589"
      ]
     },
     "execution_count": 11,
     "metadata": {},
     "output_type": "execute_result"
    }
   ],
   "source": [
    "df_sty.shape[0]"
   ]
  },
  {
   "cell_type": "code",
   "execution_count": 12,
   "metadata": {},
   "outputs": [
    {
     "data": {
      "text/plain": [
       "4413090"
      ]
     },
     "execution_count": 12,
     "metadata": {},
     "output_type": "execute_result"
    }
   ],
   "source": [
    "len(pd.unique(df_sty['CUI']))"
   ]
  },
  {
   "cell_type": "code",
   "execution_count": 13,
   "metadata": {},
   "outputs": [
    {
     "data": {
      "text/plain": [
       "array(['Amino Acid, Peptide, or Protein', 'Pharmacologic Substance',\n",
       "       'Indicator, Reagent, or Diagnostic Aid', 'Organic Chemical',\n",
       "       'Enzyme', 'Biologically Active Substance',\n",
       "       'Hazardous or Poisonous Substance', 'Hormone',\n",
       "       'Nucleic Acid, Nucleoside, or Nucleotide', 'Vitamin', 'Antibiotic',\n",
       "       'Immunologic Factor', 'Tissue', 'Manufactured Object',\n",
       "       'Intellectual Product', 'Body Location or Region',\n",
       "       'Sign or Symptom', 'Finding', 'Neoplastic Process',\n",
       "       'Body Part, Organ, or Organ Component', 'Virus',\n",
       "       'Disease or Syndrome', 'Congenital Abnormality',\n",
       "       'Functional Concept', 'Anatomical Abnormality',\n",
       "       'Injury or Poisoning', 'Classification', 'Embryonic Structure',\n",
       "       'Pathologic Function', 'Patient or Disabled Group',\n",
       "       'Health Care Related Organization', 'Regulation or Law',\n",
       "       'Therapeutic or Preventive Procedure', 'Quantitative Concept',\n",
       "       'Research Activity', 'Mental Process', 'Individual Behavior',\n",
       "       'Fungus', 'Diagnostic Procedure', 'Natural Phenomenon or Process',\n",
       "       'Inorganic Chemical', 'Occupational Activity', 'Geographic Area',\n",
       "       'Medical Device', 'Plant', 'Educational Activity', 'Organization',\n",
       "       'Eukaryote', 'Cell', 'Element, Ion, or Isotope',\n",
       "       'Phenomenon or Process', 'Qualitative Concept', 'Population Group',\n",
       "       'Event', 'Organism Function', 'Laboratory or Test Result',\n",
       "       'Organ or Tissue Function', 'Professional or Occupational Group',\n",
       "       'Governmental or Regulatory Activity', 'Social Behavior',\n",
       "       'Bacterium', 'Molecular Function', 'Behavior',\n",
       "       'Environmental Effect of Humans', 'Physiologic Function',\n",
       "       'Chemical', 'Mammal', 'Acquired Abnormality',\n",
       "       'Body Space or Junction', 'Cell Component',\n",
       "       'Biomedical or Dental Material', 'Cell Function',\n",
       "       'Laboratory Procedure', 'Activity',\n",
       "       'Daily or Recreational Activity', 'Temporal Concept',\n",
       "       'Biomedical Occupation or Discipline', 'Receptor',\n",
       "       'Body Substance', 'Mental or Behavioral Dysfunction',\n",
       "       'Health Care Activity', 'Chemical Viewed Functionally',\n",
       "       'Age Group', 'Language', 'Organism Attribute',\n",
       "       'Self-help or Relief Organization', 'Idea or Concept',\n",
       "       'Occupation or Discipline', 'Substance',\n",
       "       'Human-caused Phenomenon or Process', 'Food', 'Gene or Genome',\n",
       "       'Reptile', 'Experimental Model of Disease', 'Genetic Function',\n",
       "       'Amphibian', 'Fish', 'Professional Society', 'Amino Acid Sequence',\n",
       "       'Chemical Viewed Structurally', 'Machine Activity',\n",
       "       'Cell or Molecular Dysfunction', 'Animal', 'Clinical Attribute',\n",
       "       'Biologic Function', 'Archaeon', 'Body System',\n",
       "       'Nucleotide Sequence', 'Bird', 'Anatomical Structure',\n",
       "       'Spatial Concept', 'Carbohydrate Sequence', 'Family Group',\n",
       "       'Organism', 'Molecular Biology Research Technique', 'Group',\n",
       "       'Group Attribute', 'Conceptual Entity', 'Research Device',\n",
       "       'Physical Object', 'Entity', 'Clinical Drug', 'Molecular Sequence',\n",
       "       'Vertebrate', 'Human', 'Fully Formed Anatomical Structure',\n",
       "       'Drug Delivery Device'], dtype=object)"
      ]
     },
     "execution_count": 13,
     "metadata": {},
     "output_type": "execute_result"
    }
   ],
   "source": [
    "pd.unique(df_sty['STY'])"
   ]
  },
  {
   "cell_type": "code",
   "execution_count": 14,
   "metadata": {},
   "outputs": [
    {
     "data": {
      "text/plain": [
       "127"
      ]
     },
     "execution_count": 14,
     "metadata": {},
     "output_type": "execute_result"
    }
   ],
   "source": [
    "len(pd.unique(df_sty['STY']))  #127 types of entity"
   ]
  },
  {
   "cell_type": "markdown",
   "metadata": {},
   "source": [
    "### Disorder\n",
    "\n",
    "Where the Disorder semantic group was defined to be all semantic types in the UMLS Disorders Semantic Group except Findings, a total of 11 types (Congenital Abnormality, Acquired Abnormality, Injury or Poisoning, Pathologic Function, Disease or Syndrome, Mental or Behavioral Dysfunction, Cell or Molecular Dysfunction, Experimental Model of Disease, Signs and Symptoms, Anatomical Abnormality, Neoplastic Process).\n",
    "\n",
    "**Reference Paper:** Machine Learning of Patient Characteristics to Predict Admission Outcomes in the Undiagnosed Diseases Network"
   ]
  },
  {
   "cell_type": "code",
   "execution_count": 15,
   "metadata": {},
   "outputs": [],
   "source": [
    "disorder_entity=['Congenital Abnormality', \n",
    "                 'Acquired Abnormality',\n",
    "                 'Injury or Poisoning', \n",
    "                 'Pathologic Function', \n",
    "                 'Disease or Syndrome', \n",
    "                 'Mental or Behavioral Dysfunction', \n",
    "                 'Cell or Molecular Dysfunction', \n",
    "                 'Experimental Model of Disease', \n",
    "                 'Sign and Symptom', \n",
    "                 'Anatomical Abnormality', \n",
    "                 'Neoplastic Proces']"
   ]
  },
  {
   "cell_type": "code",
   "execution_count": 18,
   "metadata": {},
   "outputs": [
    {
     "data": {
      "text/html": [
       "<div>\n",
       "<style scoped>\n",
       "    .dataframe tbody tr th:only-of-type {\n",
       "        vertical-align: middle;\n",
       "    }\n",
       "\n",
       "    .dataframe tbody tr th {\n",
       "        vertical-align: top;\n",
       "    }\n",
       "\n",
       "    .dataframe thead th {\n",
       "        text-align: right;\n",
       "    }\n",
       "</style>\n",
       "<table border=\"1\" class=\"dataframe\">\n",
       "  <thead>\n",
       "    <tr style=\"text-align: right;\">\n",
       "      <th></th>\n",
       "      <th>CUI</th>\n",
       "      <th>STY</th>\n",
       "    </tr>\n",
       "  </thead>\n",
       "  <tbody>\n",
       "    <tr>\n",
       "      <th>254</th>\n",
       "      <td>C0000744</td>\n",
       "      <td>Disease or Syndrome</td>\n",
       "    </tr>\n",
       "    <tr>\n",
       "      <th>255</th>\n",
       "      <td>C0000754</td>\n",
       "      <td>Congenital Abnormality</td>\n",
       "    </tr>\n",
       "    <tr>\n",
       "      <th>256</th>\n",
       "      <td>C0000762</td>\n",
       "      <td>Congenital Abnormality</td>\n",
       "    </tr>\n",
       "    <tr>\n",
       "      <th>261</th>\n",
       "      <td>C0000768</td>\n",
       "      <td>Congenital Abnormality</td>\n",
       "    </tr>\n",
       "    <tr>\n",
       "      <th>263</th>\n",
       "      <td>C0000770</td>\n",
       "      <td>Anatomical Abnormality</td>\n",
       "    </tr>\n",
       "  </tbody>\n",
       "</table>\n",
       "</div>"
      ],
      "text/plain": [
       "          CUI                     STY\n",
       "254  C0000744     Disease or Syndrome\n",
       "255  C0000754  Congenital Abnormality\n",
       "256  C0000762  Congenital Abnormality\n",
       "261  C0000768  Congenital Abnormality\n",
       "263  C0000770  Anatomical Abnormality"
      ]
     },
     "execution_count": 18,
     "metadata": {},
     "output_type": "execute_result"
    }
   ],
   "source": [
    "df_sty_disorder=df_sty.loc[df_sty['STY'].isin(disorder_entity)]\n",
    "df_sty_disorder=pd.DataFrame(data=df_sty_disorder)\n",
    "df_sty_disorder.head()"
   ]
  },
  {
   "cell_type": "code",
   "execution_count": 19,
   "metadata": {},
   "outputs": [
    {
     "data": {
      "text/plain": [
       "288682"
      ]
     },
     "execution_count": 19,
     "metadata": {},
     "output_type": "execute_result"
    }
   ],
   "source": [
    "df_sty_disorder.shape[0]"
   ]
  },
  {
   "cell_type": "code",
   "execution_count": 20,
   "metadata": {},
   "outputs": [
    {
     "data": {
      "text/plain": [
       "288119"
      ]
     },
     "execution_count": 20,
     "metadata": {},
     "output_type": "execute_result"
    }
   ],
   "source": [
    "len(pd.unique(df_sty_disorder['CUI']))"
   ]
  },
  {
   "cell_type": "code",
   "execution_count": 21,
   "metadata": {},
   "outputs": [],
   "source": [
    "#extract all CUI\n",
    "disorder_cui=df_sty_disorder['CUI']"
   ]
  },
  {
   "cell_type": "markdown",
   "metadata": {},
   "source": [
    "### Disease"
   ]
  },
  {
   "cell_type": "code",
   "execution_count": 24,
   "metadata": {},
   "outputs": [
    {
     "data": {
      "text/html": [
       "<div>\n",
       "<style scoped>\n",
       "    .dataframe tbody tr th:only-of-type {\n",
       "        vertical-align: middle;\n",
       "    }\n",
       "\n",
       "    .dataframe tbody tr th {\n",
       "        vertical-align: top;\n",
       "    }\n",
       "\n",
       "    .dataframe thead th {\n",
       "        text-align: right;\n",
       "    }\n",
       "</style>\n",
       "<table border=\"1\" class=\"dataframe\">\n",
       "  <thead>\n",
       "    <tr style=\"text-align: right;\">\n",
       "      <th></th>\n",
       "      <th>CUI</th>\n",
       "      <th>STY</th>\n",
       "    </tr>\n",
       "  </thead>\n",
       "  <tbody>\n",
       "    <tr>\n",
       "      <th>254</th>\n",
       "      <td>C0000744</td>\n",
       "      <td>Disease or Syndrome</td>\n",
       "    </tr>\n",
       "    <tr>\n",
       "      <th>267</th>\n",
       "      <td>C0000774</td>\n",
       "      <td>Disease or Syndrome</td>\n",
       "    </tr>\n",
       "    <tr>\n",
       "      <th>290</th>\n",
       "      <td>C0000809</td>\n",
       "      <td>Disease or Syndrome</td>\n",
       "    </tr>\n",
       "    <tr>\n",
       "      <th>293</th>\n",
       "      <td>C0000814</td>\n",
       "      <td>Disease or Syndrome</td>\n",
       "    </tr>\n",
       "    <tr>\n",
       "      <th>300</th>\n",
       "      <td>C0000823</td>\n",
       "      <td>Disease or Syndrome</td>\n",
       "    </tr>\n",
       "  </tbody>\n",
       "</table>\n",
       "</div>"
      ],
      "text/plain": [
       "          CUI                  STY\n",
       "254  C0000744  Disease or Syndrome\n",
       "267  C0000774  Disease or Syndrome\n",
       "290  C0000809  Disease or Syndrome\n",
       "293  C0000814  Disease or Syndrome\n",
       "300  C0000823  Disease or Syndrome"
      ]
     },
     "execution_count": 24,
     "metadata": {},
     "output_type": "execute_result"
    }
   ],
   "source": [
    "df_sty_disease=df_sty.loc[df_sty['STY']=='Disease or Syndrome']\n",
    "df_sty_disease=pd.DataFrame(data=df_sty_disease)\n",
    "df_sty_disease.head()"
   ]
  },
  {
   "cell_type": "code",
   "execution_count": 25,
   "metadata": {},
   "outputs": [
    {
     "data": {
      "text/plain": [
       "112853"
      ]
     },
     "execution_count": 25,
     "metadata": {},
     "output_type": "execute_result"
    }
   ],
   "source": [
    "df_sty_disease.shape[0]"
   ]
  },
  {
   "cell_type": "code",
   "execution_count": 26,
   "metadata": {},
   "outputs": [
    {
     "data": {
      "text/plain": [
       "112853"
      ]
     },
     "execution_count": 26,
     "metadata": {},
     "output_type": "execute_result"
    }
   ],
   "source": [
    "len(pd.unique(df_sty_disease['CUI']))"
   ]
  },
  {
   "cell_type": "code",
   "execution_count": 27,
   "metadata": {},
   "outputs": [],
   "source": [
    "#extract all cui\n",
    "disease_cui=df_sty_disease['CUI']"
   ]
  },
  {
   "cell_type": "markdown",
   "metadata": {},
   "source": [
    "### MRDEF\n",
    "Extract definition."
   ]
  },
  {
   "cell_type": "code",
   "execution_count": 28,
   "metadata": {},
   "outputs": [],
   "source": [
    "with open('2020AB/META/MRDEF.RRF', 'r') as f: \n",
    "    data_def = f.readlines()\n",
    "data_def = [x.split('|') for x in data_def]"
   ]
  },
  {
   "cell_type": "code",
   "execution_count": 31,
   "metadata": {},
   "outputs": [
    {
     "data": {
      "text/html": [
       "<div>\n",
       "<style scoped>\n",
       "    .dataframe tbody tr th:only-of-type {\n",
       "        vertical-align: middle;\n",
       "    }\n",
       "\n",
       "    .dataframe tbody tr th {\n",
       "        vertical-align: top;\n",
       "    }\n",
       "\n",
       "    .dataframe thead th {\n",
       "        text-align: right;\n",
       "    }\n",
       "</style>\n",
       "<table border=\"1\" class=\"dataframe\">\n",
       "  <thead>\n",
       "    <tr style=\"text-align: right;\">\n",
       "      <th></th>\n",
       "      <th>CUI</th>\n",
       "      <th>unknown1</th>\n",
       "      <th>unknown2</th>\n",
       "      <th>space</th>\n",
       "      <th>source</th>\n",
       "      <th>description</th>\n",
       "      <th>unknown4</th>\n",
       "      <th>unknown5</th>\n",
       "      <th>unknown6</th>\n",
       "    </tr>\n",
       "  </thead>\n",
       "  <tbody>\n",
       "    <tr>\n",
       "      <th>0</th>\n",
       "      <td>C0000039</td>\n",
       "      <td>A0016515</td>\n",
       "      <td>AT38152019</td>\n",
       "      <td></td>\n",
       "      <td>MSH</td>\n",
       "      <td>Synthetic phospholipid used in liposomes and l...</td>\n",
       "      <td>N</td>\n",
       "      <td></td>\n",
       "      <td>\\n</td>\n",
       "    </tr>\n",
       "    <tr>\n",
       "      <th>1</th>\n",
       "      <td>C0000039</td>\n",
       "      <td>A13096036</td>\n",
       "      <td>AT254753550</td>\n",
       "      <td></td>\n",
       "      <td>MSHPOR</td>\n",
       "      <td>Fosfolipídeo sintético utilizado em lipossomos...</td>\n",
       "      <td>N</td>\n",
       "      <td></td>\n",
       "      <td>\\n</td>\n",
       "    </tr>\n",
       "    <tr>\n",
       "      <th>2</th>\n",
       "      <td>C0000052</td>\n",
       "      <td>A0016535</td>\n",
       "      <td>AT38148809</td>\n",
       "      <td></td>\n",
       "      <td>MSH</td>\n",
       "      <td>In glycogen or amylopectin synthesis, the enzy...</td>\n",
       "      <td>N</td>\n",
       "      <td></td>\n",
       "      <td>\\n</td>\n",
       "    </tr>\n",
       "    <tr>\n",
       "      <th>3</th>\n",
       "      <td>C0000052</td>\n",
       "      <td>A9139513</td>\n",
       "      <td>AT254753551</td>\n",
       "      <td></td>\n",
       "      <td>MSHPOR</td>\n",
       "      <td>Na síntese de glicogênio ou amilopectina, a en...</td>\n",
       "      <td>N</td>\n",
       "      <td></td>\n",
       "      <td>\\n</td>\n",
       "    </tr>\n",
       "    <tr>\n",
       "      <th>4</th>\n",
       "      <td>C0000084</td>\n",
       "      <td>A0016576</td>\n",
       "      <td>AT38151982</td>\n",
       "      <td></td>\n",
       "      <td>MSH</td>\n",
       "      <td>Found in various tissues, particularly in four...</td>\n",
       "      <td>N</td>\n",
       "      <td></td>\n",
       "      <td>\\n</td>\n",
       "    </tr>\n",
       "  </tbody>\n",
       "</table>\n",
       "</div>"
      ],
      "text/plain": [
       "        CUI   unknown1     unknown2 space  source  \\\n",
       "0  C0000039   A0016515   AT38152019           MSH   \n",
       "1  C0000039  A13096036  AT254753550        MSHPOR   \n",
       "2  C0000052   A0016535   AT38148809           MSH   \n",
       "3  C0000052   A9139513  AT254753551        MSHPOR   \n",
       "4  C0000084   A0016576   AT38151982           MSH   \n",
       "\n",
       "                                         description unknown4 unknown5  \\\n",
       "0  Synthetic phospholipid used in liposomes and l...        N            \n",
       "1  Fosfolipídeo sintético utilizado em lipossomos...        N            \n",
       "2  In glycogen or amylopectin synthesis, the enzy...        N            \n",
       "3  Na síntese de glicogênio ou amilopectina, a en...        N            \n",
       "4  Found in various tissues, particularly in four...        N            \n",
       "\n",
       "  unknown6  \n",
       "0       \\n  \n",
       "1       \\n  \n",
       "2       \\n  \n",
       "3       \\n  \n",
       "4       \\n  "
      ]
     },
     "execution_count": 31,
     "metadata": {},
     "output_type": "execute_result"
    }
   ],
   "source": [
    "columns_def = ['CUI', 'unknown1', 'unknown2', \n",
    "               'space', 'source', 'description',\n",
    "               'unknown4','unknown5','unknown6']\n",
    "\n",
    "df_umls_def = pd.DataFrame(data_def, columns = columns_def)\n",
    "#df_umls = df_umls.query('language==\"ENG\"')\n",
    "df_umls_def.head()"
   ]
  },
  {
   "cell_type": "code",
   "execution_count": 33,
   "metadata": {},
   "outputs": [
    {
     "data": {
      "text/html": [
       "<div>\n",
       "<style scoped>\n",
       "    .dataframe tbody tr th:only-of-type {\n",
       "        vertical-align: middle;\n",
       "    }\n",
       "\n",
       "    .dataframe tbody tr th {\n",
       "        vertical-align: top;\n",
       "    }\n",
       "\n",
       "    .dataframe thead th {\n",
       "        text-align: right;\n",
       "    }\n",
       "</style>\n",
       "<table border=\"1\" class=\"dataframe\">\n",
       "  <thead>\n",
       "    <tr style=\"text-align: right;\">\n",
       "      <th></th>\n",
       "      <th>CUI</th>\n",
       "      <th>source</th>\n",
       "      <th>description</th>\n",
       "    </tr>\n",
       "  </thead>\n",
       "  <tbody>\n",
       "    <tr>\n",
       "      <th>0</th>\n",
       "      <td>C0000039</td>\n",
       "      <td>MSH</td>\n",
       "      <td>Synthetic phospholipid used in liposomes and l...</td>\n",
       "    </tr>\n",
       "    <tr>\n",
       "      <th>1</th>\n",
       "      <td>C0000039</td>\n",
       "      <td>MSHPOR</td>\n",
       "      <td>Fosfolipídeo sintético utilizado em lipossomos...</td>\n",
       "    </tr>\n",
       "    <tr>\n",
       "      <th>2</th>\n",
       "      <td>C0000052</td>\n",
       "      <td>MSH</td>\n",
       "      <td>In glycogen or amylopectin synthesis, the enzy...</td>\n",
       "    </tr>\n",
       "    <tr>\n",
       "      <th>3</th>\n",
       "      <td>C0000052</td>\n",
       "      <td>MSHPOR</td>\n",
       "      <td>Na síntese de glicogênio ou amilopectina, a en...</td>\n",
       "    </tr>\n",
       "    <tr>\n",
       "      <th>4</th>\n",
       "      <td>C0000084</td>\n",
       "      <td>MSH</td>\n",
       "      <td>Found in various tissues, particularly in four...</td>\n",
       "    </tr>\n",
       "  </tbody>\n",
       "</table>\n",
       "</div>"
      ],
      "text/plain": [
       "        CUI  source                                        description\n",
       "0  C0000039     MSH  Synthetic phospholipid used in liposomes and l...\n",
       "1  C0000039  MSHPOR  Fosfolipídeo sintético utilizado em lipossomos...\n",
       "2  C0000052     MSH  In glycogen or amylopectin synthesis, the enzy...\n",
       "3  C0000052  MSHPOR  Na síntese de glicogênio ou amilopectina, a en...\n",
       "4  C0000084     MSH  Found in various tissues, particularly in four..."
      ]
     },
     "execution_count": 33,
     "metadata": {},
     "output_type": "execute_result"
    }
   ],
   "source": [
    "df_def=df_umls_def[['CUI','source','description']]\n",
    "df_def.head()"
   ]
  },
  {
   "cell_type": "code",
   "execution_count": 34,
   "metadata": {},
   "outputs": [
    {
     "data": {
      "text/plain": [
       "383351"
      ]
     },
     "execution_count": 34,
     "metadata": {},
     "output_type": "execute_result"
    }
   ],
   "source": [
    "df_def.shape[0]"
   ]
  },
  {
   "cell_type": "markdown",
   "metadata": {},
   "source": [
    "### Check all source"
   ]
  },
  {
   "cell_type": "code",
   "execution_count": 35,
   "metadata": {},
   "outputs": [
    {
     "data": {
      "text/plain": [
       "72"
      ]
     },
     "execution_count": 35,
     "metadata": {},
     "output_type": "execute_result"
    }
   ],
   "source": [
    "len(pd.unique(df_def['source']))"
   ]
  },
  {
   "cell_type": "code",
   "execution_count": 36,
   "metadata": {},
   "outputs": [
    {
     "data": {
      "text/plain": [
       "array(['MSH', 'MSHPOR', 'CSP', 'MSHCZE', 'NCI', 'PDQ', 'NCI_NCI-GLOSS',\n",
       "       'MSHNOR', 'CHV', 'NCI_CRCH', 'NCI_CareLex', 'NCI_CDISC-GLOSS',\n",
       "       'UWDA', 'FMA', 'SNOMEDCT_US', 'SCTSPA', 'HPO', 'NCI_CTCAE',\n",
       "       'NCI_NICHD', 'MEDLINEPLUS', 'NCI_ACC-AHA', 'NCI_CDISC', 'NCI_FDA',\n",
       "       'NCI_GAIA', 'HL7V3.0', 'NEU', 'PSY', 'MSHFRE', 'SPN', 'AIR', 'GO',\n",
       "       'CCC', 'UMD', 'NIC', 'ALT', 'NCI_EDQM-HC', 'NCI_INC', 'LNC',\n",
       "       'JABL', 'NUCCPT', 'ICF', 'ICF-CY', 'NCI_BRIDG_3_0_3',\n",
       "       'NCI_BRIDG_5_3', 'NANDA-I', 'PNDS', 'NOC', 'OMS', 'NCI_CTEP-SDC',\n",
       "       'NCI_DICOM', 'NCI_KEGG', 'NCI_BioC', 'MCM', 'AOT', 'SOP', 'MSHSCR',\n",
       "       'NCI_CTCAE_5', 'NCI_CTCAE_3', 'MDR', 'MDRFRE', 'MDRGER', 'MDRITA',\n",
       "       'MDRPOR', 'MDRCZE', 'MDRJPN', 'MDRHUN', 'MDRSPA', 'MDRDUT',\n",
       "       'MDRRUS', 'MDRKOR', 'MDRBPO', 'NCI_BRIDG'], dtype=object)"
      ]
     },
     "execution_count": 36,
     "metadata": {},
     "output_type": "execute_result"
    }
   ],
   "source": [
    "pd.unique(df_def['source'])"
   ]
  },
  {
   "cell_type": "markdown",
   "metadata": {},
   "source": [
    " 'MSH'(English),'MSHPOR', 'CSP'(English), 'MSHCZE', 'NCI'(English), 'PDQ'(English), 'NCI_NCI-GLOSS'(English),\n",
    "       'MSHNOR', 'CHV'(English), 'NCI_CRCH'(English), 'NCI_CareLex'(English), 'NCI_CDISC-GLOSS'(English),\n",
    "       'UWDA'(English), 'FMA'(English), 'SNOMEDCT_US'(English), 'SCTSPA', 'HPO'(English), 'NCI_CTCAE'(English),\n",
    "       'NCI_NICHD'(English), 'MEDLINEPLUS'(English), 'NCI_ACC-AHA'(English), 'NCI_CDISC'(English), 'NCI_FDA'(English),\n",
    "           'NCI_GAIA'(English), 'HL7V3.0'(English), 'NEU'(English), 'PSY'(English), 'MSHFRE', 'SPN'(English), 'AIR'(English), 'GO'(English),\n",
    "       'CCC'(English), 'UMD'(English), 'NIC'(English), 'ALT'(English), 'NCI_EDQM-HC'(English), 'NCI_INC'(English), 'LNC'(English),\n",
    "       'JABL'(English), 'NUCCPT'(English), 'ICF'(English), 'ICF-CY'(English), 'NCI_BRIDG_3_0_3'(English),\n",
    "           'NCI_BRIDG_5_3'(English), 'NANDA-I'(English), 'PNDS'(English), 'NOC'(English), 'OMS'(English), 'NCI_CTEP-SDC'(English),\n",
    "       'NCI_DICOM'(English), 'NCI_KEGG'(English), 'NCI_BioC'(English), 'MCM'(English), 'AOT'(Website), 'SOP'(English), 'MSHSCR',\n",
    "       'NCI_CTCAE_5'(English), 'NCI_CTCAE_3'(English), 'MDR'(English), 'MDRFRE', 'MDRGER', 'MDRITA',\n",
    "       'MDRPOR', 'MDRCZE', 'MDRJPN', 'MDRHUN', 'MDRSPA', 'MDRDUT',\n",
    "       'MDRRUS', 'MDRKOR', 'MDRBPO', 'NCI_BRIDG'"
   ]
  },
  {
   "cell_type": "code",
   "execution_count": 110,
   "metadata": {},
   "outputs": [
    {
     "data": {
      "text/plain": [
       "52"
      ]
     },
     "execution_count": 110,
     "metadata": {},
     "output_type": "execute_result"
    }
   ],
   "source": [
    "english_source=['MSH','CSP','NCI','PDQ','NCI_NCI-GLOSS','CHV',\n",
    "               'NCI_CRCH','NCI_CareLex','NCI_CDISC-GLOSS','UWDA','FMA','SNOMEDCT_US','HPO',\n",
    "               'NCI_CTCAE','NCI_NICHD','MEDLINEPLUS','NCI_ACC-AHA','NCI_CDISC','NCI_FDA',\n",
    "               'NCI_GAIA','HL7V3.0','NEU','PSY','SPN','AIR','GO','CCC','UMD','NIC',\n",
    "               'ALT','NCI_EDQM-HC','NCI_INC','LNC','JABL','NUCCPT','ICF','ICF-CY','NCI_BRIDG_3_0_3',\n",
    "               'NCI_BRIDG_5_3','NANDA-I','PNDS','NOC','OMS','NCI_CTEP-SDC','NCI_DICOM','NCI_KEGG',\n",
    "               'NCI_BioC','MCM','SOP','NCI_CTCAE_5','NCI_CTCAE_3','MDR']\n",
    "\n",
    "len(english_source) #52 English Source"
   ]
  },
  {
   "cell_type": "markdown",
   "metadata": {},
   "source": [
    "#### Extract all English Source"
   ]
  },
  {
   "cell_type": "code",
   "execution_count": 111,
   "metadata": {},
   "outputs": [],
   "source": [
    "df_def_eng=df_def.loc[df_def['source'].isin(english_source)]"
   ]
  },
  {
   "cell_type": "code",
   "execution_count": 112,
   "metadata": {},
   "outputs": [],
   "source": [
    "df_def_eng=pd.DataFrame(data=df_def_eng)"
   ]
  },
  {
   "cell_type": "code",
   "execution_count": 114,
   "metadata": {},
   "outputs": [
    {
     "data": {
      "text/plain": [
       "324660"
      ]
     },
     "execution_count": 114,
     "metadata": {},
     "output_type": "execute_result"
    }
   ],
   "source": [
    "df_def_eng.shape[0]"
   ]
  },
  {
   "cell_type": "markdown",
   "metadata": {},
   "source": [
    "### Disorder"
   ]
  },
  {
   "cell_type": "code",
   "execution_count": 119,
   "metadata": {},
   "outputs": [
    {
     "data": {
      "text/plain": [
       "32571"
      ]
     },
     "execution_count": 119,
     "metadata": {},
     "output_type": "execute_result"
    }
   ],
   "source": [
    "disorder_def=df_def_eng.loc[df_def_eng['CUI'].isin(disorder_cui)]\n",
    "disorder_def.shape[0]"
   ]
  },
  {
   "cell_type": "code",
   "execution_count": 120,
   "metadata": {},
   "outputs": [
    {
     "data": {
      "text/html": [
       "<div>\n",
       "<style scoped>\n",
       "    .dataframe tbody tr th:only-of-type {\n",
       "        vertical-align: middle;\n",
       "    }\n",
       "\n",
       "    .dataframe tbody tr th {\n",
       "        vertical-align: top;\n",
       "    }\n",
       "\n",
       "    .dataframe thead th {\n",
       "        text-align: right;\n",
       "    }\n",
       "</style>\n",
       "<table border=\"1\" class=\"dataframe\">\n",
       "  <thead>\n",
       "    <tr style=\"text-align: right;\">\n",
       "      <th></th>\n",
       "      <th>CUI</th>\n",
       "      <th>source</th>\n",
       "      <th>description</th>\n",
       "    </tr>\n",
       "  </thead>\n",
       "  <tbody>\n",
       "    <tr>\n",
       "      <th>308</th>\n",
       "      <td>C0000744</td>\n",
       "      <td>MSH</td>\n",
       "      <td>An autosomal recessive disorder of lipid metab...</td>\n",
       "    </tr>\n",
       "    <tr>\n",
       "      <th>309</th>\n",
       "      <td>C0000744</td>\n",
       "      <td>CSP</td>\n",
       "      <td>disorder of lipid metabolism inherited as an a...</td>\n",
       "    </tr>\n",
       "    <tr>\n",
       "      <th>310</th>\n",
       "      <td>C0000744</td>\n",
       "      <td>NCI</td>\n",
       "      <td>An autosomal recessive disorder characterized ...</td>\n",
       "    </tr>\n",
       "    <tr>\n",
       "      <th>311</th>\n",
       "      <td>C0000744</td>\n",
       "      <td>HPO</td>\n",
       "      <td>An absence of low-density lipoprotein choleste...</td>\n",
       "    </tr>\n",
       "    <tr>\n",
       "      <th>314</th>\n",
       "      <td>C0000768</td>\n",
       "      <td>MSH</td>\n",
       "      <td>Malformations of organs or body parts during d...</td>\n",
       "    </tr>\n",
       "  </tbody>\n",
       "</table>\n",
       "</div>"
      ],
      "text/plain": [
       "          CUI source                                        description\n",
       "308  C0000744    MSH  An autosomal recessive disorder of lipid metab...\n",
       "309  C0000744    CSP  disorder of lipid metabolism inherited as an a...\n",
       "310  C0000744    NCI  An autosomal recessive disorder characterized ...\n",
       "311  C0000744    HPO  An absence of low-density lipoprotein choleste...\n",
       "314  C0000768    MSH  Malformations of organs or body parts during d..."
      ]
     },
     "execution_count": 120,
     "metadata": {},
     "output_type": "execute_result"
    }
   ],
   "source": [
    "disorder_def.head()"
   ]
  },
  {
   "cell_type": "code",
   "execution_count": 121,
   "metadata": {},
   "outputs": [
    {
     "data": {
      "text/plain": [
       "20411"
      ]
     },
     "execution_count": 121,
     "metadata": {},
     "output_type": "execute_result"
    }
   ],
   "source": [
    "len(pd.unique(disorder_def['CUI']))"
   ]
  },
  {
   "cell_type": "code",
   "execution_count": 129,
   "metadata": {},
   "outputs": [
    {
     "data": {
      "text/plain": [
       "NCI                9508\n",
       "HPO                6399\n",
       "MSH                4482\n",
       "SNOMEDCT_US        4336\n",
       "NCI_NICHD          2408\n",
       "CSP                1340\n",
       "CHV                 728\n",
       "JABL                720\n",
       "NCI_CTCAE           555\n",
       "MEDLINEPLUS         551\n",
       "NCI_NCI-GLOSS       392\n",
       "NCI_CDISC           277\n",
       "PSY                 219\n",
       "NCI_FDA             160\n",
       "GO                  101\n",
       "HL7V3.0              99\n",
       "NCI_ACC-AHA          83\n",
       "PDQ                  54\n",
       "NANDA-I              35\n",
       "LNC                  32\n",
       "AIR                  27\n",
       "CCC                  26\n",
       "NCI_GAIA             17\n",
       "NCI_CDISC-GLOSS       7\n",
       "FMA                   3\n",
       "UWDA                  2\n",
       "NCI_BRIDG_3_0_3       1\n",
       "NCI_KEGG              1\n",
       "ICF-CY                1\n",
       "ICF                   1\n",
       "PNDS                  1\n",
       "NOC                   1\n",
       "NCI_BRIDG_5_3         1\n",
       "MDR                   1\n",
       "NCI_EDQM-HC           1\n",
       "OMS                   1\n",
       "Name: source, dtype: int64"
      ]
     },
     "execution_count": 129,
     "metadata": {},
     "output_type": "execute_result"
    }
   ],
   "source": [
    "disorder_def['source'].value_counts()"
   ]
  },
  {
   "cell_type": "code",
   "execution_count": 122,
   "metadata": {},
   "outputs": [],
   "source": [
    "disorder_def.to_csv('umls_def_disorder.csv')"
   ]
  },
  {
   "cell_type": "markdown",
   "metadata": {},
   "source": [
    "### Disease"
   ]
  },
  {
   "cell_type": "code",
   "execution_count": 123,
   "metadata": {},
   "outputs": [],
   "source": [
    "disease_def=df_def_eng.loc[df_def_eng['CUI'].isin(disease_cui)]"
   ]
  },
  {
   "cell_type": "code",
   "execution_count": 124,
   "metadata": {},
   "outputs": [
    {
     "data": {
      "text/plain": [
       "20344"
      ]
     },
     "execution_count": 124,
     "metadata": {},
     "output_type": "execute_result"
    }
   ],
   "source": [
    "disease_def.shape[0]"
   ]
  },
  {
   "cell_type": "code",
   "execution_count": 125,
   "metadata": {},
   "outputs": [
    {
     "data": {
      "text/html": [
       "<div>\n",
       "<style scoped>\n",
       "    .dataframe tbody tr th:only-of-type {\n",
       "        vertical-align: middle;\n",
       "    }\n",
       "\n",
       "    .dataframe tbody tr th {\n",
       "        vertical-align: top;\n",
       "    }\n",
       "\n",
       "    .dataframe thead th {\n",
       "        text-align: right;\n",
       "    }\n",
       "</style>\n",
       "<table border=\"1\" class=\"dataframe\">\n",
       "  <thead>\n",
       "    <tr style=\"text-align: right;\">\n",
       "      <th></th>\n",
       "      <th>CUI</th>\n",
       "      <th>source</th>\n",
       "      <th>description</th>\n",
       "    </tr>\n",
       "  </thead>\n",
       "  <tbody>\n",
       "    <tr>\n",
       "      <th>308</th>\n",
       "      <td>C0000744</td>\n",
       "      <td>MSH</td>\n",
       "      <td>An autosomal recessive disorder of lipid metab...</td>\n",
       "    </tr>\n",
       "    <tr>\n",
       "      <th>309</th>\n",
       "      <td>C0000744</td>\n",
       "      <td>CSP</td>\n",
       "      <td>disorder of lipid metabolism inherited as an a...</td>\n",
       "    </tr>\n",
       "    <tr>\n",
       "      <th>310</th>\n",
       "      <td>C0000744</td>\n",
       "      <td>NCI</td>\n",
       "      <td>An autosomal recessive disorder characterized ...</td>\n",
       "    </tr>\n",
       "    <tr>\n",
       "      <th>311</th>\n",
       "      <td>C0000744</td>\n",
       "      <td>HPO</td>\n",
       "      <td>An absence of low-density lipoprotein choleste...</td>\n",
       "    </tr>\n",
       "    <tr>\n",
       "      <th>383</th>\n",
       "      <td>C0000809</td>\n",
       "      <td>MSH</td>\n",
       "      <td>Three or more consecutive spontaneous abortions.</td>\n",
       "    </tr>\n",
       "  </tbody>\n",
       "</table>\n",
       "</div>"
      ],
      "text/plain": [
       "          CUI source                                        description\n",
       "308  C0000744    MSH  An autosomal recessive disorder of lipid metab...\n",
       "309  C0000744    CSP  disorder of lipid metabolism inherited as an a...\n",
       "310  C0000744    NCI  An autosomal recessive disorder characterized ...\n",
       "311  C0000744    HPO  An absence of low-density lipoprotein choleste...\n",
       "383  C0000809    MSH   Three or more consecutive spontaneous abortions."
      ]
     },
     "execution_count": 125,
     "metadata": {},
     "output_type": "execute_result"
    }
   ],
   "source": [
    "disease_def.head()"
   ]
  },
  {
   "cell_type": "code",
   "execution_count": 126,
   "metadata": {},
   "outputs": [
    {
     "data": {
      "text/plain": [
       "11345"
      ]
     },
     "execution_count": 126,
     "metadata": {},
     "output_type": "execute_result"
    }
   ],
   "source": [
    "len(pd.unique(disease_def['CUI']))"
   ]
  },
  {
   "cell_type": "code",
   "execution_count": 127,
   "metadata": {},
   "outputs": [],
   "source": [
    "disease_def.to_csv('umls_def_disease.csv')"
   ]
  }
 ],
 "metadata": {
  "kernelspec": {
   "display_name": "Python 3",
   "language": "python",
   "name": "python3"
  },
  "language_info": {
   "codemirror_mode": {
    "name": "ipython",
    "version": 3
   },
   "file_extension": ".py",
   "mimetype": "text/x-python",
   "name": "python",
   "nbconvert_exporter": "python",
   "pygments_lexer": "ipython3",
   "version": "3.7.6"
  }
 },
 "nbformat": 4,
 "nbformat_minor": 4
}
