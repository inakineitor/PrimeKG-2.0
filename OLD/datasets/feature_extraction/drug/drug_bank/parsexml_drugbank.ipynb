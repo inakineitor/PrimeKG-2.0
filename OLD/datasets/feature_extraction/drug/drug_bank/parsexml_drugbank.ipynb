{
 "cells": [
  {
   "cell_type": "code",
   "execution_count": null,
   "metadata": {},
   "outputs": [],
   "source": [
    "from bs4 import BeautifulSoup"
   ]
  },
  {
   "cell_type": "code",
   "execution_count": null,
   "metadata": {},
   "outputs": [],
   "source": [
    "pip install lxml"
   ]
  },
  {
   "cell_type": "code",
   "execution_count": null,
   "metadata": {},
   "outputs": [],
   "source": [
    "# soup = BeautifulSoup(open('./full_database.xml'), 'xml')\n",
    "\n",
    "# updated PrimeKG: fix path\n",
    "soup = BeautifulSoup(open('data/drugbank/full database.xml'), 'xml')\n",
    "sep = '\\t'"
   ]
  },
  {
   "cell_type": "code",
   "execution_count": null,
   "metadata": {},
   "outputs": [],
   "source": [
    "#volume-of-distribution\n",
    "with open('parsed/volume-of-distribution.txt', 'w') as f:\n",
    "    for drug in soup.findAll('drug'):\n",
    "        drugName = drug.find('drugbank-id').text\n",
    "        vod = drug.find('volume-of-distribution')\n",
    "        if not vod:\n",
    "            continue\n",
    "        for vs in vod:\n",
    "            for v in vs.split('*'):\n",
    "                if v != '':\n",
    "                    toPrint = drugName + sep + v\n",
    "                    f.write(toPrint + '\\n')"
   ]
  },
  {
   "cell_type": "markdown",
   "metadata": {},
   "source": []
  },
  {
   "cell_type": "code",
   "execution_count": null,
   "metadata": {},
   "outputs": [],
   "source": [
    "#half-life\n",
    "with open('parsed/half-life.txt', 'w') as f:\n",
    "    for drug in soup.findAll('drug'):\n",
    "        drugName = drug.find('drugbank-id').text\n",
    "        hl = drug.find('half-life')\n",
    "        if not hl:\n",
    "            continue\n",
    "        for h in hl:\n",
    "            toPrint = drugName + sep + h\n",
    "            f.write(toPrint + '\\n')"
   ]
  },
  {
   "cell_type": "code",
   "execution_count": null,
   "metadata": {},
   "outputs": [],
   "source": [
    "#pharmacodynamics\n",
    "with open('parsed/pharmacodynamics.txt', 'w') as f:\n",
    "    for drug in soup.findAll('drug'):\n",
    "        drugName = drug.find('drugbank-id').text\n",
    "        pd = drug.find('pharmacodynamics')\n",
    "        if not pd:\n",
    "            continue\n",
    "        for p in pd:\n",
    "            toPrint = drugName + sep + p\n",
    "            f.write(toPrint + '\\n')"
   ]
  },
  {
   "cell_type": "code",
   "execution_count": null,
   "metadata": {},
   "outputs": [],
   "source": [
    "#groups\n",
    "with open('parsed/groups.txt', 'w') as f:\n",
    "    for drug in soup.findAll('drug'):\n",
    "        drugName = drug.find('drugbank-id').text\n",
    "        groups = drug.find('groups')\n",
    "        if not groups:\n",
    "            continue\n",
    "        group = groups.findAll('group')\n",
    "        for g in group:\n",
    "            toPrint = drugName + sep + g.text\n",
    "            f.write(toPrint + '\\n')"
   ]
  },
  {
   "cell_type": "code",
   "execution_count": null,
   "metadata": {},
   "outputs": [],
   "source": [
    "#description\n",
    "with open('parsed/description.txt', 'w') as f:\n",
    "    for drug in soup.findAll('drug'):\n",
    "        drugName = drug.find('drugbank-id').text\n",
    "        ds = drug.find('description')\n",
    "        if not ds:\n",
    "            continue\n",
    "        for d in ds:\n",
    "            toPrint = drugName + sep + d\n",
    "            f.write(toPrint + '\\n')"
   ]
  },
  {
   "cell_type": "code",
   "execution_count": null,
   "metadata": {},
   "outputs": [],
   "source": [
    "#state\n",
    "with open('parsed/state.txt', 'w') as f:\n",
    "    for drug in soup.findAll('drug'):\n",
    "        drugName = drug.find('drugbank-id').text\n",
    "        st = drug.find('state')\n",
    "        if not st:\n",
    "            continue\n",
    "        for s in st:\n",
    "            toPrint = drugName + sep + s\n",
    "            f.write(toPrint + '\\n')"
   ]
  },
  {
   "cell_type": "code",
   "execution_count": null,
   "metadata": {},
   "outputs": [],
   "source": [
    "#indication\n",
    "with open('parsed/indication.txt', 'w') as f:\n",
    "    for drug in soup.findAll('drug'):\n",
    "        drugName = drug.find('drugbank-id').text\n",
    "        ind = drug.find('indication')\n",
    "        if not ind:\n",
    "            continue\n",
    "        for i in ind:\n",
    "            toPrint = drugName + sep + i\n",
    "            f.write(toPrint + '\\n')"
   ]
  },
  {
   "cell_type": "code",
   "execution_count": null,
   "metadata": {},
   "outputs": [],
   "source": [
    "#protein-binding\n",
    "with open('parsed/protein-binding.txt', 'w') as f:\n",
    "    for drug in soup.findAll('drug'):\n",
    "        drugName = drug.find('drugbank-id').text\n",
    "        pb = drug.find('protein-binding')\n",
    "        if not pb:\n",
    "            continue\n",
    "        for p in pb:\n",
    "            toPrint = drugName + sep + p\n",
    "            f.write(toPrint + '\\n')"
   ]
  },
  {
   "cell_type": "code",
   "execution_count": null,
   "metadata": {},
   "outputs": [],
   "source": [
    "#pathways\n",
    "with open('parsed/pathways.txt', 'w') as f:\n",
    "    for drug in soup.findAll('drug'):\n",
    "        drugName = drug.find('drugbank-id').text\n",
    "        pathways = drug.find('pathways')\n",
    "        if not pathways:\n",
    "            continue\n",
    "        pathways = pathways.findAll('pathway')\n",
    "        for p in pathways:\n",
    "            if p.find('name'):\n",
    "                toPrint = drugName + sep + p.find('name').text + '|' + p.find('category').text\n",
    "                f.write(toPrint + '\\n')"
   ]
  },
  {
   "cell_type": "code",
   "execution_count": null,
   "metadata": {},
   "outputs": [],
   "source": [
    "#mechanism-of-action\n",
    "with open('parsed/mechanism-of-action.txt', 'w') as f:\n",
    "    for drug in soup.findAll('drug'):\n",
    "        drugName = drug.find('drugbank-id').text\n",
    "        moa = drug.find('mechanism-of-action')\n",
    "        if not moa:\n",
    "            continue\n",
    "        for m in moa:\n",
    "            toPrint = drugName + sep + m\n",
    "            f.write(toPrint + '\\n')"
   ]
  }
 ],
 "metadata": {
  "kernelspec": {
   "display_name": "Python 3 (ipykernel)",
   "language": "python",
   "name": "python3"
  },
  "language_info": {
   "codemirror_mode": {
    "name": "ipython",
    "version": 3
   },
   "file_extension": ".py",
   "mimetype": "text/x-python",
   "name": "python",
   "nbconvert_exporter": "python",
   "pygments_lexer": "ipython3",
   "version": "3.11.6"
  }
 },
 "nbformat": 4,
 "nbformat_minor": 2
}
