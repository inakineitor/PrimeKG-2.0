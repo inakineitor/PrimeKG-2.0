{
 "cells": [
  {
   "cell_type": "markdown",
   "id": "1eeb0a70-71b4-4a12-b3e2-6f5c69cd9d86",
   "metadata": {},
   "source": [
    "- Request for API Access to OMIM – https://omim.org/api\n",
    "\n",
    "- A set of scripts to extract textual information and much more from OMIM – https://github.com/amirieb/omim-api"
   ]
  },
  {
   "cell_type": "code",
   "execution_count": 1,
   "id": "d646f70f-eacc-45dc-8d86-d48abf5ecbbd",
   "metadata": {
    "tags": []
   },
   "outputs": [],
   "source": [
    "import os\n",
    "import sys\n",
    "import json\n",
    "import requests\n",
    "import time\n",
    "from random import randint\n",
    "\n",
    "# sys.path.append('../../')\n",
    "\n",
    "# from scripts.utils import read_data"
   ]
  },
  {
   "cell_type": "code",
   "execution_count": 3,
   "id": "a706fdda-9a19-4fdf-9d5f-2584c096c2fc",
   "metadata": {
    "tags": []
   },
   "outputs": [],
   "source": [
    "def read_data(jsonfilename):\n",
    "    t0 = time()\n",
    "    if '.gz' in jsonfilename:\n",
    "        with gzip.open(jsonfilename, 'r') as fin:        # 4. gzip\n",
    "            json_bytes = fin.read()                      # 3. bytes (i.e. UTF-8)\n",
    "        json_str = json_bytes.decode('utf-8')            # 2. string (i.e. JSON)\n",
    "        data = json.loads(json_str)                      # 1. data\n",
    "    else:\n",
    "        f = open(jsonfilename, 'r')\n",
    "        data = json.load(f)\n",
    "    print(\"done in %0.3fs\" % (time() - t0))\n",
    "    return data\n"
   ]
  },
  {
   "cell_type": "code",
   "execution_count": 3,
   "id": "597adfdd-441f-436e-9314-c67075a69d74",
   "metadata": {
    "tags": []
   },
   "outputs": [],
   "source": [
    "omim_full_path = 'OMIM_FULL_May_2023.json'\n",
    "\n",
    "def dump_data(data):\n",
    "    with open(omim_full_path, 'w') as outfile:\n",
    "        json.dump(data, outfile)"
   ]
  },
  {
   "cell_type": "markdown",
   "id": "55996eff-1465-4a6e-85cb-88b0bf7a3f0a",
   "metadata": {},
   "source": [
    "___"
   ]
  },
  {
   "cell_type": "code",
   "execution_count": 2,
   "id": "f2b73377-4317-46c8-b550-a8c813943435",
   "metadata": {
    "tags": []
   },
   "outputs": [],
   "source": [
    "'''set the your API_KEY here, see https://omim.org/api'''\n",
    "API_KEY = ''"
   ]
  },
  {
   "cell_type": "markdown",
   "id": "ec4d639b-d2a2-4af1-b938-b2e24bd63a80",
   "metadata": {
    "tags": []
   },
   "source": [
    "___\n",
    "__Phenotypic Series Titles__"
   ]
  },
  {
   "cell_type": "markdown",
   "id": "d3b63a43-eb86-4da6-8c04-f3ae09963f35",
   "metadata": {},
   "source": [
    "- Manually download Phenotypic Series info as `tsv` file from – https://www.omim.org/phenotypicSeriesTitles/all/"
   ]
  },
  {
   "cell_type": "code",
   "execution_count": 2,
   "id": "c4d9679d-f018-4583-8f51-f31abe234229",
   "metadata": {
    "tags": []
   },
   "outputs": [
    {
     "name": "stdout",
     "output_type": "stream",
     "text": [
      "OMIM Phenotypic Series Titles \n",
      "Downloaded:\tMay 27, 2023\n",
      "Copyright (c) 1966-2023 Johns Hopkins University OMIM, data are provided for research purposes only.\n",
      "\n",
      "Phenotypic Series Title\tPhenotypic Series number\n",
      "Abdominal obesity-metabolic syndrome\tPS605552\n",
      "Achondrogenesis\tPS200600\n",
      "Acne inversa\tPS142690\n",
      "Acrodysostosis\tPS101800\n",
      "Acromesomelic dysplasia\tPS602875\n",
      "Adams-Oliver syndrome\tPS100300\n",
      "Advanced sleep phase syndrome\tPS604348\n",
      "Agammaglobulinemia\tPS601495\n",
      "Aicardi-Goutieres syndrome\tPS225750\n",
      "Alagille syndrome\tPS118450\n",
      "Alopecia, isolated\tPS203655\n",
      "Alopecia-intellectual disability syndrome\tPS203650\n",
      "Alport syndrome\tPS301050\n",
      "Alternating hemiplegia of childhood\tPS104290\n",
      "Amelogenesis imperfecta\tPS104500\n"
     ]
    }
   ],
   "source": [
    "!cat OMIM-Phenotypic-Series-Titles-all.tsv | head -n 20"
   ]
  },
  {
   "cell_type": "markdown",
   "id": "997c6349-1127-49c5-8aee-f877cec5032e",
   "metadata": {},
   "source": [
    "___\n",
    "- Then download these files – `https://omim.org/downloads/<your-api-key>`"
   ]
  },
  {
   "cell_type": "code",
   "execution_count": 3,
   "id": "8a56da36-7c7b-48ef-a506-e88a9554212e",
   "metadata": {},
   "outputs": [
    {
     "name": "stderr",
     "output_type": "stream",
     "text": [
      "  % Total    % Received % Xferd  Average Speed   Time    Time     Time  Current\n",
      "                                 Dload  Upload   Total   Spent    Left  Speed\n",
      "100  920k  100  920k    0     0  1104k      0 --:--:-- --:--:-- --:--:-- 1114k\n"
     ]
    },
    {
     "data": {
      "text/plain": [
       "0"
      ]
     },
     "execution_count": 3,
     "metadata": {},
     "output_type": "execute_result"
    }
   ],
   "source": [
    "# read list of mim ids to download, read the most recent list from omim.org\n",
    "os.system('curl -o ./mim2gene.txt https://omim.org/static/omim/data/mim2gene.txt')"
   ]
  },
  {
   "cell_type": "code",
   "execution_count": 6,
   "id": "fe4ffbaf-4534-4f7f-8a30-8a3ed62c75cc",
   "metadata": {},
   "outputs": [
    {
     "name": "stderr",
     "output_type": "stream",
     "text": [
      "  % Total    % Received % Xferd  Average Speed   Time    Time     Time  Current\n",
      "                                 Dload  Upload   Total   Spent    Left  Speed\n",
      "100 2887k  100 2887k    0     0  2342k      0  0:00:01  0:00:01 --:--:-- 2355k\n",
      "  % Total    % Received % Xferd  Average Speed   Time    Time     Time  Current\n",
      "                                 Dload  Upload   Total   Spent    Left  Speed\n",
      "100 3235k  100 3235k    0     0  2906k      0  0:00:01  0:00:01 --:--:-- 2922k\n",
      "  % Total    % Received % Xferd  Average Speed   Time    Time     Time  Current\n",
      "                                 Dload  Upload   Total   Spent    Left  Speed\n",
      "100  729k  100  729k    0     0   816k      0 --:--:-- --:--:-- --:--:--  820k\n"
     ]
    },
    {
     "data": {
      "text/plain": [
       "0"
      ]
     },
     "execution_count": 6,
     "metadata": {},
     "output_type": "execute_result"
    }
   ],
   "source": [
    "os.system(f'curl -o ./mimTitles.txt https://data.omim.org/downloads/{api_key}/mimTitles.txt')\n",
    "os.system(f'curl -o ./genemap2.txt https://data.omim.org/downloads/{api_key}/genemap2.txt')\n",
    "os.system(f'curl -o ./morbidmap.txt https://data.omim.org/downloads/{api_key}/morbidmap.txt')"
   ]
  },
  {
   "cell_type": "markdown",
   "id": "8651572c-aca2-4f23-85c1-bfc1539ab182",
   "metadata": {},
   "source": [
    "___\n",
    "\n",
    "__Extracting description of OMIM phenotype and gene entries.__\n",
    "\n",
    "Here I aim to use scripts from https://github.com/amirieb/omim-api to get the most updated OMIM data."
   ]
  },
  {
   "cell_type": "code",
   "execution_count": 4,
   "id": "bca2dfc1-d153-43b7-af37-d1139ba809f3",
   "metadata": {
    "tags": []
   },
   "outputs": [
    {
     "name": "stdout",
     "output_type": "stream",
     "text": [
      "done in 3.250s\n",
      "#downloaded mims:  28302\n",
      "#to download mims:  0\n"
     ]
    }
   ],
   "source": [
    "omim_data = {}\n",
    "omim_data['omim'] = []\n",
    "\n",
    "mims = [line.split('\\t')[0].strip() for line in open('mim2gene.txt', 'r').readlines() if not line.startswith('#')]\n",
    "\n",
    "# if any, reload entries that have been downloaded so far.\n",
    "mim_ids_down = set([])\n",
    "if os.path.exists(omim_full_path):\n",
    "    omim_down = read_data(omim_full_path)\n",
    "    for row in omim_down['omim']:\n",
    "        mim = row['entry']['mimNumber']\n",
    "        if mim not in mim_ids_down:\n",
    "            mim_ids_down.add(mim)\n",
    "            omim_data['omim'].append(row)\n",
    "            del mims[mims.index(str(mim))]\n",
    "print('#downloaded mims: ', len(mim_ids_down))\n",
    "print('#to download mims: ', len(mims))"
   ]
  },
  {
   "cell_type": "code",
   "execution_count": null,
   "id": "3a10fea6-1f6d-4047-aac9-fa2e76d39daf",
   "metadata": {
    "tags": []
   },
   "outputs": [],
   "source": [
    "# send queries to the api\n",
    "i, cnt_item, mim_errors = 0, 19, []  # cnt_item: number of items to download per request.. double check, THERE IS A LIMIT IMPOSED BY THE API\n",
    "while i < len(mims):\n",
    "    time.sleep(randint(5, 15))\n",
    "    try:\n",
    "        link = 'https://api.omim.org/api/entry?mimNumber=' + ','.join(\n",
    "            [mim for mim in mims[i:i + cnt_item]]) + '&format=json&include=all&apiKey=' + API_KEY\n",
    "        print(i + cnt_item, link)\n",
    "        r = requests.get(link)\n",
    "        data = r.json()\n",
    "        for entry in data['omim']['entryList']:\n",
    "            # print '\\t', i + cnt_item, entry['mimNumber'],\n",
    "            omim_data['omim'].append(entry)\n",
    "        i += cnt_item\n",
    "    except():\n",
    "        # print(mims[i:i + cnt_item])\n",
    "        mim_errors.append(mims[i:i + cnt_item])\n",
    "        print(\"Unexpected error:\", sys.exc_info()[0])\n",
    "        dump_data(omim_data)\n",
    "        continue"
   ]
  },
  {
   "cell_type": "code",
   "execution_count": null,
   "id": "fa0fc544-8c88-4ea9-8fdc-c8fb740a02f5",
   "metadata": {
    "tags": []
   },
   "outputs": [],
   "source": [
    "r.status_code\n",
    "# == 200"
   ]
  },
  {
   "cell_type": "code",
   "execution_count": null,
   "id": "5d7c3835-e84c-49b0-a8f3-66d2b874613d",
   "metadata": {
    "tags": []
   },
   "outputs": [],
   "source": [
    "dump_data(omim_data)\n",
    "if len(mim_errors) > 0:\n",
    "    print('\\n errors for these mim ids: ', mim_errors)\n",
    "    print('\\n re-run the code to restart downloading from the last downloaded mim id.')\n",
    "else:\n",
    "    print('Done!')"
   ]
  },
  {
   "cell_type": "code",
   "execution_count": 9,
   "id": "64d54b82-2a93-495d-83e1-6aa11e023fb8",
   "metadata": {
    "tags": []
   },
   "outputs": [
    {
     "name": "stdout",
     "output_type": "stream",
     "text": [
      "-rw-r--r--  1 abearab  staff   362M May 29 21:46 OMIM_FULL_May_2023.json\n"
     ]
    }
   ],
   "source": [
    "ls -lh OMIM_FULL_May_2023.json"
   ]
  },
  {
   "cell_type": "markdown",
   "id": "9cfec19a-b212-4dac-acc7-959a5a412874",
   "metadata": {},
   "source": [
    "### "
   ]
  },
  {
   "cell_type": "code",
   "execution_count": 5,
   "id": "8df9fd5d-75b8-49c6-bbdc-9a132b2b8e25",
   "metadata": {
    "tags": []
   },
   "outputs": [],
   "source": [
    "!gzip OMIM_FULL_May_2023.json"
   ]
  },
  {
   "cell_type": "code",
   "execution_count": 6,
   "id": "d3a1f4a8-64ac-402d-bc6d-45774e14954a",
   "metadata": {
    "tags": []
   },
   "outputs": [
    {
     "name": "stdout",
     "output_type": "stream",
     "text": [
      "-rw-r--r--  1 abearab  staff   101M May 29 21:46 OMIM_FULL_May_2023.json.gz\n"
     ]
    }
   ],
   "source": [
    "ls -lh OMIM_FULL_May_2023.json.gz"
   ]
  },
  {
   "cell_type": "code",
   "execution_count": 7,
   "id": "540bf4fa-eeca-43f4-9242-9e7fb35818d4",
   "metadata": {
    "tags": []
   },
   "outputs": [
    {
     "name": "stdout",
     "output_type": "stream",
     "text": [
      "Mon May 29 21:47:19 PDT 2023\n"
     ]
    }
   ],
   "source": [
    "!date"
   ]
  }
 ],
 "metadata": {
  "kernelspec": {
   "display_name": "Python [conda env:mamba-primekg]",
   "language": "python",
   "name": "conda-env-mamba-primekg-py"
  },
  "language_info": {
   "codemirror_mode": {
    "name": "ipython",
    "version": 3
   },
   "file_extension": ".py",
   "mimetype": "text/x-python",
   "name": "python",
   "nbconvert_exporter": "python",
   "pygments_lexer": "ipython3",
   "version": "3.10.9"
  }
 },
 "nbformat": 4,
 "nbformat_minor": 5
}
